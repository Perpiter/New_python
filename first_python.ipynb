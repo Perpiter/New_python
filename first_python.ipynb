{
 "cells": [
  {
   "cell_type": "markdown",
   "id": "ea574e3f-d506-43e5-a844-d52457e6654e",
   "metadata": {},
   "source": [
    "# varieble,comment,operator"
   ]
  },
  {
   "cell_type": "markdown",
   "id": "19a6dcd6-ee49-4dcc-ac13-e1e59d2c7fea",
   "metadata": {},
   "source": [
    "first_Name"
   ]
  },
  {
   "cell_type": "code",
   "execution_count": null,
   "id": "d27bb8f4-3935-4aa1-8296-dcef9b5f2cf2",
   "metadata": {},
   "outputs": [],
   "source": [
    "pie =22/7\n",
    "r =7\n",
    "area =22/7(7*7)\n",
    "area =154"
   ]
  },
  {
   "cell_type": "markdown",
   "id": "8b8bb268-9808-4cf1-af47-aa6b56b6e667",
   "metadata": {
    "tags": []
   },
   "source": [
    "# python "
   ]
  },
  {
   "cell_type": "markdown",
   "id": "b69f1649-1070-4908-9561-afc92128dc89",
   "metadata": {},
   "source": [
    "# Area"
   ]
  },
  {
   "cell_type": "code",
   "execution_count": 3,
   "id": "8e674c2e-1890-4a4f-a3ac-426ce8e9411c",
   "metadata": {},
   "outputs": [
    {
     "name": "stdout",
     "output_type": "stream",
     "text": [
      "154.0\n"
     ]
    }
   ],
   "source": [
    "# solving the area of the circle\n",
    "pie =22/7\n",
    "#radius\n",
    "r =7\n",
    "\n",
    "area = pie*r*r\n",
    "print(area)\n"
   ]
  },
  {
   "cell_type": "code",
   "execution_count": 4,
   "id": "8c491b27-26a9-472c-a078-ab1a408aa312",
   "metadata": {},
   "outputs": [
    {
     "data": {
      "text/plain": [
       "True"
      ]
     },
     "execution_count": 4,
     "metadata": {},
     "output_type": "execute_result"
    }
   ],
   "source": [
    "True or False"
   ]
  },
  {
   "cell_type": "code",
   "execution_count": 5,
   "id": "b2044151-8095-41a8-8f0d-93127e478c60",
   "metadata": {},
   "outputs": [
    {
     "data": {
      "text/plain": [
       "False"
      ]
     },
     "execution_count": 5,
     "metadata": {},
     "output_type": "execute_result"
    }
   ],
   "source": [
    "True and (True and False)\n"
   ]
  },
  {
   "cell_type": "markdown",
   "id": "31926ea4-e507-450d-83fa-83784ffa1207",
   "metadata": {},
   "source": [
    "# user Input"
   ]
  },
  {
   "cell_type": "code",
   "execution_count": 12,
   "id": "667db4e7-216a-4727-bc5d-11c32299c9f6",
   "metadata": {},
   "outputs": [
    {
     "name": "stdin",
     "output_type": "stream",
     "text": [
      "Pllease enter your name perp\n",
      "please enter your age 34\n"
     ]
    },
    {
     "name": "stdout",
     "output_type": "stream",
     "text": [
      "your name is perp and your are  34\n"
     ]
    }
   ],
   "source": [
    "name = input(\"Pllease enter your name\")\n",
    "age =input(\"please enter your age\")\n",
    "#name =input(\"please enter your  name\")\n",
    "print(\"your name is\", name, \"and your are \",age)\n",
    "#print(\"good evening \",name)\n"
   ]
  },
  {
   "cell_type": "code",
   "execution_count": 8,
   "id": "93fa90b9-06c1-4365-8c33-530369db2aa6",
   "metadata": {},
   "outputs": [],
   "source": [
    "age =input(\"please enter your age\")\n",
    "#name =input(\"please enter your  name\")\n",
    "#print(\"your name is\",name\"and your are \",age)\n",
    "\n",
    "#anytime you recive an input from the user,that input is a string .so you have to change it  a type of data"
   ]
  },
  {
   "cell_type": "code",
   "execution_count": 9,
   "id": "237696de-fe2e-4e79-84db-df6aa16ccd07",
   "metadata": {},
   "outputs": [
    {
     "name": "stdin",
     "output_type": "stream",
     "text": [
      "please enter the value for pie 22/7\n",
      "please enter the value for radius 8\n"
     ]
    }
   ],
   "source": [
    "pie = input(\"please enter the value for pie\")\n",
    "r = input(\"please enter the value for radius\")\n"
   ]
  },
  {
   "cell_type": "code",
   "execution_count": 10,
   "id": "74c6bd7e-afe4-449b-bb79-9f3fc837e11e",
   "metadata": {},
   "outputs": [
    {
     "name": "stdin",
     "output_type": "stream",
     "text": [
      "please enter the value for pie 88\n",
      "please enter the value for radius 098\n"
     ]
    }
   ],
   "source": [
    "pie =float( input(\"please enter the value for pie\"))\n",
    "r =  float (input(\"please enter the value for radius\"))"
   ]
  },
  {
   "cell_type": "code",
   "execution_count": 3,
   "id": "15c62b39-0c13-4909-a675-51e477b9f652",
   "metadata": {},
   "outputs": [
    {
     "name": "stdin",
     "output_type": "stream",
     "text": [
      "please enter the value for pie 45\n",
      "please enter the value for radius 23\n"
     ]
    },
    {
     "name": "stdout",
     "output_type": "stream",
     "text": [
      "45\n"
     ]
    }
   ],
   "source": [
    "pie = input(\"please enter the value for pie\")\n",
    "r = input(\"please enter the value for radius\")\n",
    "print(pie)"
   ]
  },
  {
   "cell_type": "code",
   "execution_count": null,
   "id": "c4be94cf-b540-4ed5-b46f-9112ef3d6099",
   "metadata": {},
   "outputs": [],
   "source": []
  }
 ],
 "metadata": {
  "kernelspec": {
   "display_name": "Python 3 (ipykernel)",
   "language": "python",
   "name": "python3"
  },
  "language_info": {
   "codemirror_mode": {
    "name": "ipython",
    "version": 3
   },
   "file_extension": ".py",
   "mimetype": "text/x-python",
   "name": "python",
   "nbconvert_exporter": "python",
   "pygments_lexer": "ipython3",
   "version": "3.9.7"
  }
 },
 "nbformat": 4,
 "nbformat_minor": 5
}
